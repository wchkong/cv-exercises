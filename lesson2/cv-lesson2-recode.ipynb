{
 "cells": [
  {
   "cell_type": "code",
   "execution_count": 2,
   "metadata": {},
   "outputs": [],
   "source": [
    "import cv2\n",
    "import numpy as np"
   ]
  },
  {
   "cell_type": "code",
   "execution_count": 8,
   "metadata": {},
   "outputs": [],
   "source": [
    "img = cv2.imread(\"E:/ai-for-cv-nlp/cv-resource/lesson-1/lena.jpg\")\n",
    "cv2.imshow('lena', img)\n",
    "key = cv2.waitKey()\n",
    "if key == 27:\n",
    "    cv2.destroyAllWindows()"
   ]
  },
  {
   "cell_type": "code",
   "execution_count": 21,
   "metadata": {},
   "outputs": [],
   "source": [
    "# Gaussian Kernel Effect\n",
    "# (21,21)为高斯核尺寸（奇数）\n",
    "g_img = cv2.GaussianBlur(img,(9,9),5)\n",
    "cv2.imshow('gaussian_blur_lenna', g_img)\n",
    "key = cv2.waitKey()\n",
    "if key == 27:\n",
    "    cv2.destroyAllWindows()\n",
    "    \n",
    "    \n",
    "# 图像变更模糊，因为范围更大，平均效果更明显   \n",
    "g_img = cv2.GaussianBlur(img,(17,17),5)\n",
    "cv2.imshow('gaussian_blur_lenna', g_img)\n",
    "key = cv2.waitKey()\n",
    "if key == 27:\n",
    "    cv2.destroyAllWindows()"
   ]
  },
  {
   "cell_type": "code",
   "execution_count": 22,
   "metadata": {},
   "outputs": [],
   "source": [
    "# 图像更清晰，因为方差更小，高斯图像更尖锐，中心点起的作用更大\n",
    "g_img = cv2.GaussianBlur(img,(7,7),1)\n",
    "cv2.imshow('gaussian_blur_lenna', g_img)\n",
    "key = cv2.waitKey()\n",
    "if key == 27:\n",
    "    cv2.destroyAllWindows()"
   ]
  },
  {
   "cell_type": "code",
   "execution_count": 30,
   "metadata": {},
   "outputs": [
    {
     "name": "stdout",
     "output_type": "stream",
     "text": [
      "[[0.12895603]\n",
      " [0.14251846]\n",
      " [0.15133131]\n",
      " [0.1543884 ]\n",
      " [0.15133131]\n",
      " [0.14251846]\n",
      " [0.12895603]]\n"
     ]
    }
   ],
   "source": [
    "#高斯核\n",
    "kernel = cv2.getGaussianKernel(7,5)\n",
    "print(kernel)"
   ]
  },
  {
   "cell_type": "code",
   "execution_count": 31,
   "metadata": {},
   "outputs": [],
   "source": [
    "g1_img = cv2.GaussianBlur(img,(7,7),5)\n",
    "# ori, depth, kernelX, kernelY\n",
    "g2_img = cv2.sepFilter2D(img, -1, kernel, kernel)\n",
    "cv2.imshow('g1_blur_lenna', g1_img)\n",
    "cv2.imshow('g2_blur_lenna', g2_img)\n",
    "key = cv2.waitKey()\n",
    "if key == 27:\n",
    "    cv2.destroyAllWindows()"
   ]
  },
  {
   "cell_type": "code",
   "execution_count": 36,
   "metadata": {},
   "outputs": [],
   "source": [
    "######## Other Applications #########\n",
    "# 2nd derivative: laplacian （双边缘效果）\n",
    "kernel_lap = np.array([[0, 1, 0], [1, -4, 1], [0, 1, 0]], np.float32)\n",
    "lap_img = cv2.filter2D(img, -1, kernel=kernel_lap)\n",
    "cv2.imshow('lap_lena', lap_img)\n",
    "key = cv2.waitKey()\n",
    "if key == 27:\n",
    "    cv2.destroyAllWindows()"
   ]
  },
  {
   "cell_type": "code",
   "execution_count": 39,
   "metadata": {},
   "outputs": [],
   "source": [
    "# 应用： 图像锐化 = edge+ori\n",
    "# app: sharpen\n",
    "# 图像+edge=更锐利地图像，因为突出边缘\n",
    "kernel_sharp = np.array([[0,1,0],[1,-3,1],[0,1,0]])\n",
    "lap_img = cv2.filter2D(img, -1, kernel=kernel_sharp)\n",
    "cv2.imshow('sharp_lena', lap_img)\n",
    "key = cv2.waitKey()\n",
    "if key == 27:\n",
    "    cv2.destroyAllWindows()\n",
    "    \n",
    "# 这样不对，因为，周围有4个1，中间是-3，虽然有边缘效果，但是周围得1会使得原kernel有滤波效果，使图像模糊；\n",
    "# 解决：所以取kernel_lap得相反数，再加上原图像，这样突出了中心像素，效果类似于小方差的高斯，所以\n",
    "#      可以既有边缘效果，又保留图像清晰度\n",
    "kernel_sharp = np.array([[0, -1, 0], [-1, 5, -1], [0, -1, 0]], np.float32) \n",
    "lap_img = cv2.filter2D(img, -1, kernel=kernel_sharp)\n",
    "cv2.imshow('sharp_lena', lap_img)\n",
    "key = cv2.waitKey()\n",
    "if key == 27:\n",
    "    cv2.destroyAllWindows()\n",
    "    \n",
    "# 更“凶猛”的边缘效果\n",
    "# 不仅考虑x-y方向上的梯度，同时考虑了对角线方向上的梯度\n",
    "kernel_sharp = np.array([[1, 1, 1], [1, -8, 1], [1, 1, 1]], np.float32) \n",
    "lap_img = cv2.filter2D(img, -1, kernel=kernel_sharp)\n",
    "cv2.imshow('sharp_lena', lap_img)\n",
    "key = cv2.waitKey()\n",
    "if key == 27:\n",
    "    cv2.destroyAllWindows()"
   ]
  },
  {
   "cell_type": "code",
   "execution_count": 40,
   "metadata": {},
   "outputs": [],
   "source": [
    "######## Edge #########\n",
    "# x轴\n",
    "edgex = np.array([[-1, -2, -1], [0, 0, 0], [1, 2, 1]], np.float32)\n",
    "sharp_img = cv2.filter2D(img, -1, kernel=edgex)\n",
    "cv2.imshow('edgex_lenna', sharp_img)\n",
    "key = cv2.waitKey()\n",
    "if key == 27:\n",
    "    cv2.destroyAllWindows()\n",
    "\n",
    "# y轴\n",
    "edgey = np.array([[-1, 0, -1], [-2, 0, 2], [-1, 0, 1]], np.float32)\n",
    "sharpy_img = cv2.filter2D(img, -1, kernel=edgey)\n",
    "cv2.imshow('edgex_lenna', sharp_img)\n",
    "cv2.imshow('edgey_lenna', sharpy_img)\n",
    "key = cv2.waitKey()\n",
    "if key == 27:\n",
    "    cv2.destroyAllWindows()"
   ]
  },
  {
   "cell_type": "code",
   "execution_count": 42,
   "metadata": {},
   "outputs": [
    {
     "name": "stdout",
     "output_type": "stream",
     "text": [
      "[[162. 162. 162. ... 162. 147. 128.]\n",
      " [162. 162. 162. ... 162. 147. 128.]\n",
      " [162. 162. 162. ... 162. 147. 128.]\n",
      " ...\n",
      " [ 43.  43.  47. ... 102.  99.  98.]\n",
      " [ 44.  44.  49. ... 104. 105. 107.]\n",
      " [ 44.  44.  49. ... 104. 106. 108.]]\n",
      "[[ 0.0000000e+00  0.0000000e+00  0.0000000e+00 ... -4.6512500e+03\n",
      "  -3.5490312e+04 -1.6704201e+04]\n",
      " [ 0.0000000e+00  0.0000000e+00  0.0000000e+00 ... -4.6512500e+03\n",
      "  -3.5490312e+04 -1.6704201e+04]\n",
      " [ 0.0000000e+00  0.0000000e+00  0.0000000e+00 ... -4.6512500e+03\n",
      "  -3.5490312e+04 -1.6704201e+04]\n",
      " ...\n",
      " [ 2.4824219e+01  2.4824219e+01  1.2879976e+02 ...  7.3913818e+01\n",
      "  -2.5395099e+02 -1.8352563e+02]\n",
      " [ 4.6510693e+01  4.6510693e+01  5.2647995e+01 ...  6.3625000e+01\n",
      "  -2.7781296e+00 -1.8902032e+02]\n",
      " [-2.4375491e+00 -2.4375491e+00 -9.1970169e+01 ...  8.1958494e+00\n",
      "   4.1822216e+01  4.5821095e+01]]\n"
     ]
    }
   ],
   "source": [
    "######### 角点 ###########\n",
    "img = cv2.imread('E:/ai-for-cv-nlp/cv-resource/lesson-1/lena.jpg')\n",
    "img = cv2.resize(img, (640, 480))\n",
    "img_gray = np.float32(cv2.cvtColor(img, cv2.COLOR_BGR2GRAY))\n",
    "print(img_gray)\n",
    " # 2： blockSize: window size; 3: Sobel kernel size\n",
    "img_harris = cv2.cornerHarris(img_gray, 2, 3, 0.05)   \n",
    "cv2.imshow('img_harris ', img_harris)\n",
    "key = cv2.waitKey()\n",
    "if key == 27:\n",
    "    cv2.destroyAllWindows()\n",
    "# 没法看原因：1. float类型； 2. img_harris本质上是每个pixel对于Harris函数的响应值\n",
    "# 没有看的价值\n",
    "print(img_harris)\n",
    "\n",
    "# 为了显示清楚\n",
    "# img_harris = cv2.dilate(img_harris , None)\n",
    "\n",
    "thres = 0.05 * np.max(img_harris)\n",
    "img[img_harris > thres] = [0, 0, 255]\n",
    "cv2.imshow('img_harris ', img)\n",
    "key = cv2.waitKey()\n",
    "if key == 27:\n",
    "    cv2.destroyAllWindows()\n"
   ]
  },
  {
   "cell_type": "code",
   "execution_count": null,
   "metadata": {},
   "outputs": [
    {
     "name": "stdout",
     "output_type": "stream",
     "text": [
      "(1098, 128)\n"
     ]
    }
   ],
   "source": [
    "########### SIFT ###########\n",
    "img = cv2.imread('E:/ai-for-cv-nlp/cv-resource/lesson-1/lena.jpg')\n",
    "# create sift class\n",
    "sift = cv2.xfeatures2d.SIFT_create()\n",
    "# detect SIFT\n",
    "kp = sift.detect(img,None)   # None for mask\n",
    "# compute SIFT descriptor\n",
    "kp,des = sift.compute(img,kp)\n",
    "print(des.shape)\n",
    "img_sift= cv2.drawKeypoints(img,kp,outImage=np.array([]), flags=cv2.DRAW_MATCHES_FLAGS_DRAW_RICH_KEYPOINTS)\n",
    "cv2.imshow('lenna_sift.jpg', img_sift)\n",
    "key = cv2.waitKey()\n",
    "if key == 27:\n",
    "    cv2.destroyAllWindows()"
   ]
  },
  {
   "cell_type": "code",
   "execution_count": null,
   "metadata": {},
   "outputs": [],
   "source": []
  }
 ],
 "metadata": {
  "kernelspec": {
   "display_name": "Python 3",
   "language": "python",
   "name": "python3"
  },
  "language_info": {
   "codemirror_mode": {
    "name": "ipython",
    "version": 3
   },
   "file_extension": ".py",
   "mimetype": "text/x-python",
   "name": "python",
   "nbconvert_exporter": "python",
   "pygments_lexer": "ipython3",
   "version": "3.7.3"
  }
 },
 "nbformat": 4,
 "nbformat_minor": 2
}
