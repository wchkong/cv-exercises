{
 "cells": [
  {
   "cell_type": "code",
   "execution_count": 1,
   "metadata": {},
   "outputs": [
    {
     "name": "stdout",
     "output_type": "stream",
     "text": [
      "hello world\n"
     ]
    }
   ],
   "source": []
  },
  {
   "cell_type": "code",
   "execution_count": 2,
   "metadata": {},
   "outputs": [],
   "source": [
    "import cv2\n",
    "import random\n",
    "import numpy as np\n",
    "from matplotlib import pyplot as plt"
   ]
  },
  {
   "cell_type": "code",
   "execution_count": 4,
   "metadata": {},
   "outputs": [],
   "source": [
    "img_gray=cv2.imread('E:/ai-for-cv-nlp/cv-resource/lesson-1/lena.jpg',0)\n",
    "cv2.imshow('lena', img_gray)\n",
    "key = cv2.waitKey()\n",
    "if key == 27:\n",
    "    cv2.destroyAllWindows()"
   ]
  },
  {
   "cell_type": "code",
   "execution_count": 5,
   "metadata": {},
   "outputs": [
    {
     "name": "stdout",
     "output_type": "stream",
     "text": [
      "[[162 162 162 ... 170 155 128]\n",
      " [162 162 162 ... 170 155 128]\n",
      " [162 162 162 ... 170 155 128]\n",
      " ...\n",
      " [ 43  43  50 ... 104 100  98]\n",
      " [ 44  44  55 ... 104 105 108]\n",
      " [ 44  44  55 ... 104 105 108]]\n",
      "uint8\n",
      "(512, 512)\n"
     ]
    }
   ],
   "source": [
    "#每个像素点灰度数据\n",
    "print(img_gray)\n",
    "#编码格式\n",
    "print(img_gray.dtype)\n",
    "#尺寸\n",
    "print(img_gray.shape)"
   ]
  },
  {
   "cell_type": "code",
   "execution_count": 3,
   "metadata": {},
   "outputs": [],
   "source": [
    "import cv2\n",
    "img = cv2.imread('E:/ai-for-cv-nlp/cv-resource/lesson-1/lena.jpg')\n",
    "cv2.imshow('lena', img)\n",
    "key = cv2.waitKey()\n",
    "if key == 27:\n",
    "    cv2.destroyAllWindows()"
   ]
  },
  {
   "cell_type": "code",
   "execution_count": null,
   "metadata": {},
   "outputs": [],
   "source": []
  },
  {
   "cell_type": "code",
   "execution_count": 7,
   "metadata": {},
   "outputs": [
    {
     "name": "stdout",
     "output_type": "stream",
     "text": [
      "[[[125 137 226]\n",
      "  [125 137 226]\n",
      "  [133 137 223]\n",
      "  ...\n",
      "  [122 148 230]\n",
      "  [110 130 221]\n",
      "  [ 90  99 200]]\n",
      "\n",
      " [[125 137 226]\n",
      "  [125 137 226]\n",
      "  [133 137 223]\n",
      "  ...\n",
      "  [122 148 230]\n",
      "  [110 130 221]\n",
      "  [ 90  99 200]]\n",
      "\n",
      " [[125 137 226]\n",
      "  [125 137 226]\n",
      "  [133 137 223]\n",
      "  ...\n",
      "  [122 148 230]\n",
      "  [110 130 221]\n",
      "  [ 90  99 200]]\n",
      "\n",
      " ...\n",
      "\n",
      " [[ 60  18  84]\n",
      "  [ 60  18  84]\n",
      "  [ 58  27  92]\n",
      "  ...\n",
      "  [ 84  73 173]\n",
      "  [ 76  68 172]\n",
      "  [ 79  62 177]]\n",
      "\n",
      " [[ 57  22  82]\n",
      "  [ 57  22  82]\n",
      "  [ 62  32  96]\n",
      "  ...\n",
      "  [ 79  70 179]\n",
      "  [ 81  71 181]\n",
      "  [ 81  74 185]]\n",
      "\n",
      " [[ 57  22  82]\n",
      "  [ 57  22  82]\n",
      "  [ 62  32  96]\n",
      "  ...\n",
      "  [ 79  70 179]\n",
      "  [ 81  71 181]\n",
      "  [ 81  74 185]]]\n",
      "(512, 512, 3)\n"
     ]
    }
   ],
   "source": [
    "print(img)\n",
    "#尺寸\n",
    "print(img.shape)"
   ]
  },
  {
   "cell_type": "code",
   "execution_count": 8,
   "metadata": {},
   "outputs": [],
   "source": [
    "#image crop\n",
    "img_crop = img[0:100, 0:200]\n",
    "cv2.imshow('img_rop', img_crop)\n",
    "key = cv2.waitKey()\n",
    "if key == 27:\n",
    "    cv2.destroyAllWindows()"
   ]
  },
  {
   "cell_type": "code",
   "execution_count": 9,
   "metadata": {},
   "outputs": [],
   "source": [
    "#color split\n",
    "B, G, R = cv2.split(img)\n",
    "cv2.imshow('B', B)\n",
    "cv2.imshow('G', G)\n",
    "cv2.imshow('R', R)\n",
    "key = cv2.waitKey()\n",
    "if key == 27:\n",
    "    cv2.destroyAllWindows()"
   ]
  },
  {
   "cell_type": "code",
   "execution_count": 12,
   "metadata": {},
   "outputs": [],
   "source": [
    "#change color \n",
    "def random_light_color(img):\n",
    "    # brightness\n",
    "    B, G, R = cv2.split(img)\n",
    "    print(img.dtype)\n",
    "    b_rand = random.randint(-50, 50)\n",
    "    if b_rand == 0:\n",
    "        pass\n",
    "    elif b_rand > 0:\n",
    "        lim = 255 - b_rand\n",
    "        B[B > lim] = 255\n",
    "        B[B <= lim] = (b_rand + B[B <= lim]).astype(img.dtype)\n",
    "        print((b_rand + B[B <= lim]).astype(img.dtype))\n",
    "    elif b_rand < 0:\n",
    "        lim = 0 - b_rand\n",
    "        B[B < lim] = 0\n",
    "        B[B >= lim] = (b_rand + B[B >= lim]).astype(img.dtype)\n",
    "        print((b_rand + B[B >= lim]).astype(img.dtype))\n",
    "        \n",
    "    g_rand = random.randint(-50, 50)\n",
    "    if g_rand == 0:\n",
    "        pass\n",
    "    elif g_rand > 0:\n",
    "        lim = 255 - g_rand\n",
    "        G[G > lim] = 255\n",
    "        G[G <= lim] = (g_rand + G[G <= lim]).astype(img.dtype)\n",
    "    elif g_rand < 0:\n",
    "        lim = 0 - g_rand\n",
    "        G[G < lim] = 0\n",
    "        G[G >= lim] = (g_rand + G[G >= lim]).astype(img.dtype)\n",
    "\n",
    "    r_rand = random.randint(-50, 50)\n",
    "    if r_rand == 0:\n",
    "        pass\n",
    "    elif r_rand > 0:\n",
    "        lim = 255 - r_rand\n",
    "        R[R > lim] = 255\n",
    "        R[R <= lim] = (r_rand + R[R <= lim]).astype(img.dtype)\n",
    "    elif r_rand < 0:\n",
    "        lim = 0 - r_rand\n",
    "        R[R < lim] = 0\n",
    "        R[R >= lim] = (r_rand + R[R >= lim]).astype(img.dtype)\n",
    "\n",
    "    img_merge = cv2.merge((B, G, R))\n",
    "    #img = cv2.cvtColor(final_hsv, cv2.COLOR_HSV2BGR)\n",
    "    return img_merge"
   ]
  },
  {
   "cell_type": "code",
   "execution_count": 14,
   "metadata": {},
   "outputs": [
    {
     "name": "stdout",
     "output_type": "stream",
     "text": [
      "uint8\n",
      "[79 79 87 ... 33 35 35]\n"
     ]
    }
   ],
   "source": [
    "img_random_color = random_light_color(img)\n",
    "cv2.imshow('img_random_color', img_random_color)\n",
    "key = cv2.waitKey()\n",
    "if key == 27:\n",
    "    cv2.destroyAllWindows()"
   ]
  },
  {
   "cell_type": "code",
   "execution_count": 15,
   "metadata": {},
   "outputs": [],
   "source": [
    "# gamma correction\n",
    "img_dark = cv2.imread('E:/ai-for-cv-nlp/cv-resource/lesson-1/lena.jpg')\n",
    "cv2.imshow('img_dark', img_dark)\n",
    "key = cv2.waitKey()\n",
    "if key == 27:\n",
    "    cv2.destroyAllWindows()\n",
    "def adjust_gamma(image, gamma=1.0):\n",
    "    invGamma = 1.0/gamma\n",
    "    table = []\n",
    "    for i in range(256):\n",
    "        table.append(((i / 255.0) ** invGamma) * 255)\n",
    "    table = np.array(table).astype(\"uint8\")\n",
    "    return cv2.LUT(img_dark, table)\n",
    "\n",
    "img_brighter = adjust_gamma(img_dark, 2)\n",
    "cv2.imshow('img_dark', img_dark)\n",
    "cv2.imshow('img_brighter', img_brighter)\n",
    "key = cv2.waitKey()\n",
    "if key == 27:\n",
    "    cv2.destroyAllWindows()"
   ]
  },
  {
   "cell_type": "code",
   "execution_count": 16,
   "metadata": {},
   "outputs": [],
   "source": [
    "# rotation\n",
    "M = cv2.getRotationMatrix2D((img.shape[1] / 5, img.shape[0] / 5), 90, 0.5)\n",
    "img_rotate = cv2.warpAffine(img, M, (img.shape[1], img.shape[0]))\n",
    "cv2.imshow('rotated lenna', img_rotate)\n",
    "key = cv2.waitKey(0)\n",
    "if key == 27:\n",
    "    cv2.destroyAllWindows()"
   ]
  },
  {
   "cell_type": "code",
   "execution_count": 13,
   "metadata": {},
   "outputs": [
    {
     "name": "stdout",
     "output_type": "stream",
     "text": [
      "[[ 3.06161700e-17  5.00000000e-01  5.12000008e+01]\n",
      " [-5.00000000e-01  3.06161700e-17  1.53600002e+02]]\n"
     ]
    }
   ],
   "source": [
    "print(M)"
   ]
  },
  {
   "cell_type": "code",
   "execution_count": 17,
   "metadata": {},
   "outputs": [
    {
     "name": "stdout",
     "output_type": "stream",
     "text": [
      "[[ 3.061617e-17  5.000000e-01  0.000000e+00]\n",
      " [-5.000000e-01  3.061617e-17  0.000000e+00]]\n"
     ]
    }
   ],
   "source": [
    "M[0][2] = M[1][2] = 0\n",
    "print(M)\n",
    "img_rotate2 = cv2.warpAffine(img, M, (img.shape[1], img.shape[0]))\n",
    "cv2.imshow('rotated lenna2', img_rotate2)\n",
    "key = cv2.waitKey(0)\n",
    "if key == 27:\n",
    "    cv2.destroyAllWindows()"
   ]
  },
  {
   "cell_type": "code",
   "execution_count": 3,
   "metadata": {},
   "outputs": [
    {
     "name": "stdout",
     "output_type": "stream",
     "text": [
      "(512, 512, 3)\n",
      "[[  0.4330127    0.25        81.14874832]\n",
      " [ -0.25         0.4330127  209.14874832]]\n"
     ]
    }
   ],
   "source": [
    "# scale+rotation+translation = similarity transform\n",
    "print(img.shape)\n",
    "M = cv2.getRotationMatrix2D((256, 256), 30, 0.5) # 中心点坐标，旋转角度，图片缩放比例\n",
    "img_rotate = cv2.warpAffine(img, M, (img.shape[1], img.shape[0]))\n",
    "print(M)\n",
    "cv2.imshow('rotated lenna', img_rotate)\n",
    "key = cv2.waitKey(0)\n",
    "if key == 27:\n",
    "    cv2.destroyAllWindows\n"
   ]
  },
  {
   "cell_type": "code",
   "execution_count": 4,
   "metadata": {},
   "outputs": [],
   "source": [
    "# Affine Transform\n",
    "rows, cols, ch = img.shape\n",
    "pts1 = np.float32([[0, 0], [cols - 1, 0], [0, rows - 1]])\n",
    "pts2 = np.float32([[cols * 0.5, rows * 0.1], [cols * 0.9, rows * 0.2], [cols * 0.1, rows * 0.9]])\n",
    "\n",
    "M = cv2.getAffineTransform(pts1, pts2)\n",
    "dst = cv2.warpAffine(img, M, (cols, rows))\n",
    "\n",
    "cv2.imshow('affine lenna', dst)\n",
    "key = cv2.waitKey(0)\n",
    "if key == 27:\n",
    "    cv2.destroyAllWindows"
   ]
  },
  {
   "cell_type": "code",
   "execution_count": 8,
   "metadata": {},
   "outputs": [
    {
     "name": "stdout",
     "output_type": "stream",
     "text": [
      "[[ 37. -22.]\n",
      " [507. -19.]\n",
      " [486. 504.]\n",
      " [-32. 488.]] [[-36.  14.]\n",
      " [501. -20.]\n",
      " [483. 476.]\n",
      " [ 38. 507.]]\n"
     ]
    }
   ],
   "source": [
    "# perspective transform\n",
    "def random_warp(img, row, col):\n",
    "    height, width, channels = img.shape\n",
    "    \n",
    "    # warp\n",
    "    random_margin = 60\n",
    "    x1 = random.randint(-random_margin, random_margin)\n",
    "    y1 = random.randint(-random_margin, random_margin)\n",
    "    x2 = random.randint(width - random_margin - 1, width - 1)\n",
    "    y2 = random.randint(-random_margin, random_margin)\n",
    "    x3 = random.randint(width - random_margin - 1, width - 1)\n",
    "    y3 = random.randint(height - random_margin - 1, height - 1)\n",
    "    x4 = random.randint(-random_margin, random_margin)\n",
    "    y4 = random.randint(height - random_margin - 1, height - 1)\n",
    "\n",
    "    dx1 = random.randint(-random_margin, random_margin)\n",
    "    dy1 = random.randint(-random_margin, random_margin)\n",
    "    dx2 = random.randint(width - random_margin - 1, width - 1)\n",
    "    dy2 = random.randint(-random_margin, random_margin)\n",
    "    dx3 = random.randint(width - random_margin - 1, width - 1)\n",
    "    dy3 = random.randint(height - random_margin - 1, height - 1)\n",
    "    dx4 = random.randint(-random_margin, random_margin)\n",
    "    dy4 = random.randint(height - random_margin - 1, height - 1)\n",
    "\n",
    "    pts1 = np.float32([[x1, y1], [x2, y2], [x3, y3], [x4, y4]])\n",
    "    pts2 = np.float32([[dx1, dy1], [dx2, dy2], [dx3, dy3], [dx4, dy4]])\n",
    "    print(pts1, pts2)\n",
    "    M_warp = cv2.getPerspectiveTransform(pts1, pts2)\n",
    "    img_warp = cv2.warpPerspective(img, M_warp, (width, height))\n",
    "    return M_warp, img_warp\n",
    "M_warp, img_warp = random_warp(img, img.shape[0], img.shape[1])\n",
    "cv2.imshow('lenna_warp', img_warp)\n",
    "key = cv2.waitKey(0)\n",
    "if key == 27:\n",
    "    cv2.destroyAllWindows()"
   ]
  },
  {
   "cell_type": "code",
   "execution_count": null,
   "metadata": {},
   "outputs": [],
   "source": []
  },
  {
   "cell_type": "code",
   "execution_count": null,
   "metadata": {},
   "outputs": [],
   "source": []
  },
  {
   "cell_type": "code",
   "execution_count": null,
   "metadata": {},
   "outputs": [],
   "source": []
  }
 ],
 "metadata": {
  "kernelspec": {
   "display_name": "Python 3",
   "language": "python",
   "name": "python3"
  },
  "language_info": {
   "codemirror_mode": {
    "name": "ipython",
    "version": 3
   },
   "file_extension": ".py",
   "mimetype": "text/x-python",
   "name": "python",
   "nbconvert_exporter": "python",
   "pygments_lexer": "ipython3",
   "version": "3.7.3"
  }
 },
 "nbformat": 4,
 "nbformat_minor": 2
}
