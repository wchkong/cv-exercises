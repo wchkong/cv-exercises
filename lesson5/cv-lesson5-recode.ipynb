{
 "cells": [
  {
   "cell_type": "code",
   "execution_count": 3,
   "metadata": {},
   "outputs": [],
   "source": [
    "import pandas as pd\n",
    "import numpy as np\n",
    "import matplotlib.pyplot as plt\n",
    "import cv2"
   ]
  },
  {
   "cell_type": "code",
   "execution_count": 9,
   "metadata": {},
   "outputs": [],
   "source": [
    "# df 所有的点 centroids 中心点  colmap 上色\n",
    "def assignment(df, centroids, colmap):\n",
    "    for i in centroids.keys():\n",
    "        # 求各个点到当前中心点的距离 sqrt((x1 - x2)^2 - (y1 - y2)^2)\n",
    "        df['distance_from_{}'.format(i)] = (\n",
    "            np.sqrt(\n",
    "                (df['x'] - centroids[i][0]) ** 2\n",
    "                + (df['y'] - centroids[i][0]) ** 2\n",
    "            )\n",
    "        )\n",
    "    distance_from_centroid_id = ['distance_from_{}'.format(i) for i in centroids.keys()]\n",
    "    df['closest'] = df.loc[:, distance_from_centroid_id].idxmin(axis=1)\n",
    "    df['closest'] = df['closest'].map(lambda x: int(x.lstrip('distance_from')))\n",
    "    df['color'] = df['closest'].map(lambda x: colmap[x])\n",
    "    return df"
   ]
  },
  {
   "cell_type": "code",
   "execution_count": 5,
   "metadata": {},
   "outputs": [],
   "source": [
    "def update(df, centroids):\n",
    "    for i in centroids.keys():\n",
    "        centroids[i][0] = np.mean(df[df['closest'] == i]['x'])\n",
    "        centroids[i][1] = np.mean(df[df['closest'] == i]['y'])\n",
    "    return centroids"
   ]
  },
  {
   "cell_type": "code",
   "execution_count": null,
   "metadata": {},
   "outputs": [],
   "source": [
    "def main():\n",
    "    # step 0.0: generate source data\n",
    "    df = pd.DataFrame({\n",
    "        'x':[12, 20, 28, 18, 10, 29, 33, 24, 45, 45, 52, 51, 52, 55, 53, 55, 61, 64, 69, 72, 23],\n",
    "        'y':[39, 36, 30, 52, 54, 20, 46, 55, 59, 63, 70, 66, 63, 58, 23, 14, 8, 19, 7, 24, 77]\n",
    "    })\n",
    "    # dataframe 返回一个二维矩阵\n",
    "    # 用。loc 定位\n",
    "    # step 0.1: generate center\n",
    "    #中心点个数\n",
    "    k = 3\n",
    "    # 随机选择中心点\n",
    "    centroids = {\n",
    "        i: [np.random.randint(0, 80), np.random.randint(0,80)]\n",
    "        for i in range(k)\n",
    "    }\n",
    "    # step 0.2: assign centroid for each source data\n",
    "    # for color and mode: https://blog.csdn.net/m0_38103546/article/details/79801487\n",
    "    # colmap = {0: 'r', 1: 'g', 2: 'b', 3: 'm', 4: 'c'}\n",
    "    colmap = {0: 'r', 1: 'g', 2: 'b'}\n",
    "    df = assignment(df, centroids, colmap)\n",
    "    \n",
    "    plt.scatter(df['x'], df['y'], color=df['color'], alpha=0.5, edgecolor='k')\n",
    "    for i in centroids.keys():\n",
    "        plt.scatter(*centroids[i], color=colmap[i], linewidths=6)\n",
    "    plt.xlim(0, 80)\n",
    "    plt.ylim(0, 80)\n",
    "    plt.show()\n",
    "    \n",
    "    for i in range(10):\n",
    "        key = cv2.waitKey()\n",
    "        plt.close()\n",
    "        \n",
    "        closest_centroids = df['closest'].copy(deep=True)\n",
    "        centroids = update(df, centroids)\n",
    "        \n",
    "        plt.scatter(df['x'], df['y'], color=df['color'], alpha=0.5, edgecolor='k')\n",
    "        for i in centroids.keys():\n",
    "            plt.scatter(*centroids[i], color=colmap[i], linewidths=6)\n",
    "        plt.xlim(0, 80)\n",
    "        plt.ylim(0, 80)\n",
    "        plt.show()\n",
    "        \n",
    "        df = assignment(df, centroids, colmap)\n",
    "\n",
    "        if closest_centroids.equals(df['closest']):\n",
    "            break"
   ]
  },
  {
   "cell_type": "code",
   "execution_count": null,
   "metadata": {},
   "outputs": [],
   "source": [
    "if __name__ == '__main__':\n",
    "    main()"
   ]
  },
  {
   "cell_type": "code",
   "execution_count": null,
   "metadata": {},
   "outputs": [],
   "source": []
  }
 ],
 "metadata": {
  "kernelspec": {
   "display_name": "Python 3",
   "language": "python",
   "name": "python3"
  },
  "language_info": {
   "codemirror_mode": {
    "name": "ipython",
    "version": 3
   },
   "file_extension": ".py",
   "mimetype": "text/x-python",
   "name": "python",
   "nbconvert_exporter": "python",
   "pygments_lexer": "ipython3",
   "version": "3.7.3"
  }
 },
 "nbformat": 4,
 "nbformat_minor": 2
}
